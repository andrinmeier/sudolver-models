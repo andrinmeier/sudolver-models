{
 "cells": [
  {
   "cell_type": "code",
   "execution_count": 7,
   "metadata": {},
   "outputs": [],
   "source": [
    "import pandas as pd\n",
    "import os\n",
    "from pathlib import Path\n",
    "from sklearn.model_selection import train_test_split"
   ]
  },
  {
   "cell_type": "code",
   "execution_count": 39,
   "metadata": {},
   "outputs": [],
   "source": [
    "data_folder = \"../data/original/\"\n",
    "annotated_folder = \"../data/annotated/\"\n",
    "testdata_folder = \"../data/testdata_dont_touch/\""
   ]
  },
  {
   "cell_type": "code",
   "execution_count": 22,
   "metadata": {},
   "outputs": [],
   "source": [
    "def read_samples(folder):\n",
    "    samples = []\n",
    "    for file in os.listdir(data_folder):\n",
    "         filename = os.fsdecode(file)\n",
    "         if filename.endswith(\".jpg\"):\n",
    "            fullname = data_folder + file\n",
    "            fullname_no_extension = data_folder + Path(fullname).stem\n",
    "            outcome = pd.read_json(fullname_no_extension + \".json\")\n",
    "            samples.append((filename, outcome))\n",
    "    return samples"
   ]
  },
  {
   "cell_type": "code",
   "execution_count": 23,
   "metadata": {},
   "outputs": [],
   "source": [
    "samples = read_samples(data_folder)"
   ]
  },
  {
   "cell_type": "code",
   "execution_count": 24,
   "metadata": {},
   "outputs": [],
   "source": [
    "def eval(samples):\n",
    "    success = [x for x in samples if len(x[1][\"solution\"]) > 0]\n",
    "    print(len(success))\n",
    "    print(len(samples))\n",
    "    return len(success) / len(samples)"
   ]
  },
  {
   "cell_type": "code",
   "execution_count": 25,
   "metadata": {},
   "outputs": [
    {
     "name": "stdout",
     "output_type": "stream",
     "text": [
      "63\n",
      "217\n"
     ]
    },
    {
     "data": {
      "text/plain": [
       "0.2903225806451613"
      ]
     },
     "execution_count": 25,
     "metadata": {},
     "output_type": "execute_result"
    }
   ],
   "source": [
    "eval(samples)"
   ]
  },
  {
   "cell_type": "code",
   "execution_count": 26,
   "metadata": {},
   "outputs": [
    {
     "name": "stdout",
     "output_type": "stream",
     "text": [
      "173\n",
      "44\n"
     ]
    }
   ],
   "source": [
    "X_train, X_test, y_train, y_test = train_test_split(samples, samples, test_size=0.20, random_state=42)\n",
    "print(len(X_train))\n",
    "print(len(X_test))"
   ]
  },
  {
   "cell_type": "code",
   "execution_count": 41,
   "metadata": {},
   "outputs": [],
   "source": [
    "def move_annotated_files(samples, source_folder, destination_folder):\n",
    "    for test_sample in X_test:\n",
    "        image_filepath = test_sample[0]\n",
    "        image_fullpath = source_folder + image_filepath\n",
    "        image_target = destination_folder + image_filepath\n",
    "        name_no_ext = Path(image_filepath).stem\n",
    "        annotation_filepath = name_no_ext + \".xml\"\n",
    "        annotation_fullpath = source_folder + annotation_filepath\n",
    "        annotation_target = destination_folder + annotation_filepath\n",
    "        filename = os.fsdecode(image_filepath)\n",
    "        os.rename(image_fullpath, image_target)\n",
    "        os.rename(annotation_fullpath, annotation_target)"
   ]
  },
  {
   "cell_type": "code",
   "execution_count": null,
   "metadata": {},
   "outputs": [],
   "source": []
  }
 ],
 "metadata": {
  "kernelspec": {
   "display_name": "Python 3",
   "language": "python",
   "name": "python3"
  },
  "language_info": {
   "codemirror_mode": {
    "name": "ipython",
    "version": 3
   },
   "file_extension": ".py",
   "mimetype": "text/x-python",
   "name": "python",
   "nbconvert_exporter": "python",
   "pygments_lexer": "ipython3",
   "version": "3.7.9"
  }
 },
 "nbformat": 4,
 "nbformat_minor": 4
}
