{
 "cells": [
  {
   "cell_type": "code",
   "execution_count": 1,
   "metadata": {},
   "outputs": [],
   "source": [
    "import pandas as pd\n",
    "import os\n",
    "from pathlib import Path\n",
    "import cv2\n",
    "import numpy as np\n",
    "from matplotlib import pyplot as plt\n",
    "import matplotlib as mpl\n",
    "from sklearn.model_selection import train_test_split, KFold\n",
    "from PIL import Image\n",
    "from ImageAnalysis import ImageAnalysis\n",
    "from ImageTableExtraction import ImageTableExtraction\n",
    "from SudokuDetection import SudokuDetection\n",
    "from solvers.sudoku.sudoku_solver import SudokuSolver"
   ]
  },
  {
   "cell_type": "code",
   "execution_count": 230,
   "metadata": {},
   "outputs": [],
   "source": [
    "mpl.rcParams['figure.dpi']= 200\n",
    "plt.rcParams['figure.figsize'] = [5,4]"
   ]
  },
  {
   "cell_type": "code",
   "execution_count": 231,
   "metadata": {},
   "outputs": [],
   "source": [
    "data_folder = \"../data/original/\"\n",
    "annotated_folder = \"../data/training_data/\"\n",
    "testdata_folder = \"../data/testdata_dont_touch/\""
   ]
  },
  {
   "cell_type": "code",
   "execution_count": 232,
   "metadata": {},
   "outputs": [],
   "source": [
    "def read_samples(folder):\n",
    "    samples = []\n",
    "    for file in os.listdir(data_folder):\n",
    "         filename = os.fsdecode(file)\n",
    "         if filename.endswith(\".jpg\"):\n",
    "            fullname = data_folder + file\n",
    "            fullname_no_extension = data_folder + Path(fullname).stem\n",
    "            outcome = pd.read_json(fullname_no_extension + \".json\")\n",
    "            samples.append((filename, outcome))\n",
    "    return samples"
   ]
  },
  {
   "cell_type": "code",
   "execution_count": 233,
   "metadata": {},
   "outputs": [],
   "source": [
    "samples = read_samples(data_folder)"
   ]
  },
  {
   "cell_type": "code",
   "execution_count": 234,
   "metadata": {},
   "outputs": [],
   "source": [
    "def eval(samples):\n",
    "    success = [x for x in samples if len(x[1][\"solution\"]) > 0]\n",
    "    print(len(success))\n",
    "    print(len(samples))\n",
    "    return len(success) / len(samples)"
   ]
  },
  {
   "cell_type": "code",
   "execution_count": 235,
   "metadata": {},
   "outputs": [
    {
     "name": "stdout",
     "output_type": "stream",
     "text": [
      "63\n",
      "217\n"
     ]
    },
    {
     "data": {
      "text/plain": [
       "0.2903225806451613"
      ]
     },
     "execution_count": 235,
     "metadata": {},
     "output_type": "execute_result"
    }
   ],
   "source": [
    "eval(samples)"
   ]
  },
  {
   "cell_type": "code",
   "execution_count": 236,
   "metadata": {},
   "outputs": [
    {
     "name": "stdout",
     "output_type": "stream",
     "text": [
      "173\n",
      "44\n"
     ]
    }
   ],
   "source": [
    "X_train, X_test, y_train, y_test = train_test_split(samples, samples, test_size=0.20, random_state=42)\n",
    "print(len(X_train))\n",
    "print(len(X_test))"
   ]
  },
  {
   "cell_type": "code",
   "execution_count": 237,
   "metadata": {},
   "outputs": [],
   "source": [
    "def move_annotated_files(samples, source_folder, destination_folder):\n",
    "    for test_sample in X_test:\n",
    "        image_filepath = test_sample[0]\n",
    "        image_fullpath = source_folder + image_filepath\n",
    "        image_target = destination_folder + image_filepath\n",
    "        name_no_ext = Path(image_filepath).stem\n",
    "        annotation_filepath = name_no_ext + \".xml\"\n",
    "        annotation_fullpath = source_folder + annotation_filepath\n",
    "        annotation_target = destination_folder + annotation_filepath\n",
    "        filename = os.fsdecode(image_filepath)\n",
    "        os.rename(image_fullpath, image_target)\n",
    "        os.rename(annotation_fullpath, annotation_target)"
   ]
  },
  {
   "cell_type": "code",
   "execution_count": 238,
   "metadata": {},
   "outputs": [],
   "source": [
    "class SudolverModel():\n",
    "    def __init__(self):\n",
    "        self.extractor = None\n",
    "        self.persp_transform = False\n",
    "        self.filters = []\n",
    "        self.solver = SudokuSolver()\n",
    "        self.detector = SudokuDetection(ImageAnalysis(), ImageTableExtraction())\n",
    "        \n",
    "    def predict(self, image_rgb):\n",
    "        try:\n",
    "            result = image_rgb\n",
    "            if self.extractor is not None:\n",
    "                preprocessed = self.extractor.preprocess(result)\n",
    "                result = self.extractor.predict(preprocessed, self.persp_transform)\n",
    "                if result is None:\n",
    "                    print(\"YOLO didn't detect sudoku\")\n",
    "                    return 0\n",
    "            for f in self.filters:\n",
    "                result = f.apply_filter(result)\n",
    "            return self.scan_and_solve(result)\n",
    "        except Exception as ex:\n",
    "            print(ex)\n",
    "            return 0\n",
    "    \n",
    "    def get_params(self):\n",
    "        desc = \"\"\n",
    "        if self.extractor is not None:\n",
    "            desc += \"Extractor.Activated,\"\n",
    "        for f in self.filters:\n",
    "            desc += f.get_params() + \",\"\n",
    "        return desc\n",
    "    \n",
    "    def enable_extractor(self):\n",
    "        self.extractor = SudokuExtractor()\n",
    "    \n",
    "    def add_filter(self, new_filter):\n",
    "        self.filters.append(new_filter)\n",
    "    \n",
    "    def scan_and_solve(self, image_rgb):\n",
    "        result = None\n",
    "        try:\n",
    "            success, encoded_image = cv2.imencode('.jpg', image_rgb)\n",
    "            content = encoded_image.tobytes()\n",
    "            success, result = self.detector.detect(content)\n",
    "            if success:\n",
    "                solution = self.solver.solve(result)\n",
    "                return 1\n",
    "            else:\n",
    "                print(result)\n",
    "                return 0\n",
    "        except Exception as ex:\n",
    "            print(ex)\n",
    "            if result is not None:\n",
    "                print(result)\n",
    "            return 0"
   ]
  },
  {
   "cell_type": "code",
   "execution_count": 239,
   "metadata": {},
   "outputs": [],
   "source": [
    "from tqdm import tqdm\n",
    "def eval_all(samples):\n",
    "    extractors = (None, SudokuExtractor())\n",
    "    sharp_variants = (None, Laplacian(10))\n",
    "    results = []\n",
    "    total = len(samples)\n",
    "    \n",
    "    for enable_extractor in extractors:\n",
    "        for sharp in sharp_variants:\n",
    "                sudolver = SudolverModel()\n",
    "                if enable_extractor is not None:\n",
    "                    sudolver.enable_extractor()\n",
    "                if sharp is not None:\n",
    "                    sudolver.add_filter(sharp)\n",
    "                model_total = 0\n",
    "                for sample in tqdm(samples):\n",
    "                    filename = sample[0]\n",
    "                    image = cv2.imread(data_folder + filename)\n",
    "                    image_rgb = to_rgb_from_bgr(image)\n",
    "                    success = sudolver.predict(image_rgb)\n",
    "                    model_total += success\n",
    "                model_desc = sudolver.get_params()\n",
    "                eval_result = (model_desc, model_total / total)\n",
    "                print(eval_result)\n",
    "                results.append(eval_result)\n",
    "    return results"
   ]
  },
  {
   "cell_type": "code",
   "execution_count": null,
   "metadata": {},
   "outputs": [],
   "source": []
  },
  {
   "cell_type": "code",
   "execution_count": 240,
   "metadata": {},
   "outputs": [],
   "source": [
    "def read_image(filepath):\n",
    "    return cv2.imread(filepath)"
   ]
  },
  {
   "cell_type": "code",
   "execution_count": 241,
   "metadata": {},
   "outputs": [],
   "source": [
    "def to_rgb_from_bgr(image):\n",
    "    return cv2.cvtColor(image, cv2.COLOR_BGR2RGB)"
   ]
  },
  {
   "cell_type": "code",
   "execution_count": 242,
   "metadata": {},
   "outputs": [],
   "source": [
    "def to_bgr_from_rgb(image):\n",
    "    return cv2.cvtColor(image, cv2.COLOR_RGB2BGR)"
   ]
  },
  {
   "cell_type": "code",
   "execution_count": 243,
   "metadata": {},
   "outputs": [],
   "source": [
    "def to_grayscale_from_bgr(image):\n",
    "    return cv2.cvtColor(image, cv2.COLOR_BGR2GRAY)"
   ]
  },
  {
   "cell_type": "code",
   "execution_count": 244,
   "metadata": {},
   "outputs": [],
   "source": [
    "def eq_hist_from_bgr(image):\n",
    "    return cv2.equalizeHist(to_grayscale_from_bgr(image))"
   ]
  },
  {
   "cell_type": "code",
   "execution_count": 245,
   "metadata": {},
   "outputs": [],
   "source": [
    "def unsharp_masking(image, k=10):\n",
    "    normalized = image / 255.0\n",
    "    blurred = cv2.GaussianBlur(normalized, [5, 5], 3, 3)\n",
    "    mask = normalized - blurred\n",
    "    sharp = normalized + k*mask\n",
    "    sharp[sharp > 1] = 1\n",
    "    sharp[sharp < 0] = 0\n",
    "    sharp = sharp * 255\n",
    "    sharp = sharp.astype(np.uint8)\n",
    "    return sharp"
   ]
  },
  {
   "cell_type": "code",
   "execution_count": 246,
   "metadata": {},
   "outputs": [],
   "source": [
    "def laplacian(image, alpha=10):\n",
    "    normalized = image / 255.0\n",
    "    laplacian = cv2.Laplacian(normalized, cv2.CV_64F)\n",
    "    sharp = normalized - alpha * laplacian\n",
    "    sharp[sharp > 1] = 1\n",
    "    sharp[sharp < 0] = 0\n",
    "    sharp = sharp * 255\n",
    "    sharp = sharp.astype(np.uint8)\n",
    "    return sharp"
   ]
  },
  {
   "cell_type": "code",
   "execution_count": 247,
   "metadata": {},
   "outputs": [],
   "source": [
    "filepath = annotated_folder + X_train[34][0]"
   ]
  },
  {
   "cell_type": "code",
   "execution_count": 248,
   "metadata": {},
   "outputs": [],
   "source": [
    "image = read_image(filepath)\n",
    "#plt.imshow(to_rgb_from_bgr(image))"
   ]
  },
  {
   "cell_type": "code",
   "execution_count": 249,
   "metadata": {},
   "outputs": [],
   "source": [
    "from imgaug.augmenters.meta import Sequential\n",
    "import imgaug.augmenters as iaa\n",
    "import imageio\n",
    "import torch\n",
    "\n",
    "class SudokuExtractor():\n",
    "    def __init__(self):\n",
    "        self.model = torch.hub.load('C:/Projects/sudolver-models/data/model/yolov5', 'custom', path='C:/Projects/sudolver-models/data/trained_model/best_2022-04-09.pt', source='local') \n",
    "\n",
    "    def preprocess(self, image):\n",
    "        aug = [iaa.CenterPadToSquare(), iaa.Resize({\"height\": 640, \"width\": 640})]\n",
    "        seq = iaa.Sequential(aug)\n",
    "        return seq(image=image)\n",
    "        \n",
    "    def predict(self, image, persp_transform):\n",
    "        result = self.model(image)\n",
    "        if len(result) > 0:\n",
    "            pred = result.pandas()\n",
    "            xmin, ymin, xmax, ymax = (int(pred.xyxy[0]['xmin'].values[0]), int(pred.xyxy[0]['ymin'].values[0]), int(pred.xyxy[0]['xmax'].values[0]), int(pred.xyxy[0]['ymax'].values[0]))\n",
    "            img = to_rgb_from_bgr(perspective_transform(image, self.pred_to_conjugates(xmin, ymin, xmax, ymax)))\n",
    "            return img\n",
    "        else:\n",
    "            return None\n",
    "        \n",
    "    def pred_to_conjugates(self, xmin, ymin, xmax, ymax):\n",
    "        return np.float32([[xmin, ymin], [xmax, ymin], [xmax, ymax], [xmin, ymax]])"
   ]
  },
  {
   "cell_type": "code",
   "execution_count": 250,
   "metadata": {},
   "outputs": [],
   "source": [
    "class ImageFilter():\n",
    "    def apply_filter(self, image):\n",
    "        pass\n",
    "    \n",
    "    def get_params(self):\n",
    "        pass\n",
    "    \n",
    "class UnsharpMasking(ImageFilter):\n",
    "    def __init__(self, k=5):\n",
    "        self.k = k\n",
    "        \n",
    "    def apply_filter(self, image_rgb):\n",
    "        return unsharp_masking(image_rgb, self.k)\n",
    "    \n",
    "    def get_params(self):\n",
    "        return f\"UnsharpMasking (k={self.k})\"\n",
    "    \n",
    "class Laplacian(ImageFilter):\n",
    "    def __init__(self, alpha=5):\n",
    "        self.alpha = alpha\n",
    "        \n",
    "    def apply_filter(self, image_rgb):\n",
    "        return laplacian(image_rgb, self.alpha)\n",
    "    \n",
    "    def get_params(self):\n",
    "        return f\"Laplacian (alpha={self.alpha})\"\n",
    "    \n",
    "class HigherDPI(ImageFilter):\n",
    "    def __init__(self, dpi=150):\n",
    "        self.dpi = dpi\n",
    "        \n",
    "    def apply_filter(self, image_rgb):\n",
    "        im = Image.fromarray(image_rgb)\n",
    "        temp_filename = \"C:/Projects/sudolver-models/data/high_dpi/temp.jpg\"\n",
    "        im.save(temp_filename, dpi=(self.dpi, self.dpi))\n",
    "        return to_rgb_from_bgr(read_image(temp_filename))\n",
    "    \n",
    "    def get_params(self):\n",
    "        return f\"Higher DPI = {self.dpi}\""
   ]
  },
  {
   "cell_type": "code",
   "execution_count": 251,
   "metadata": {
    "tags": []
   },
   "outputs": [
    {
     "name": "stderr",
     "output_type": "stream",
     "text": [
      "\u001b[31m\u001b[1mrequirements:\u001b[0m pandas>=1.1.4 not found and is required by YOLOv5, attempting auto-update...\n",
      "\u001b[31m\u001b[1mrequirements:\u001b[0m Command 'pip install 'pandas>=1.1.4'' returned non-zero exit status 1.\n",
      "YOLOv5  v6.1-118-g3bb233a torch 1.10.0+cpu CPU\n",
      "\n",
      "Fusing layers... \n",
      "YOLOv5s summary: 213 layers, 7012822 parameters, 0 gradients, 15.8 GFLOPs\n",
      "Adding AutoShape... \n",
      "  2%|█▉                                                                                 | 1/44 [00:01<01:01,  1.43s/it]"
     ]
    },
    {
     "name": "stdout",
     "output_type": "stream",
     "text": [
      "[[['5', '7', '', '', '8', '', '3', '2 1'], ['', '', '', '', '5', '2', '', ''], ['', '5', '6', '3', '', '', '', ''], ['', '', '1', '', '2', '', '7', ''], ['', '', '', '', '', '5', '9', '6']]]\n"
     ]
    },
    {
     "name": "stderr",
     "output_type": "stream",
     "text": [
      "  5%|███▊                                                                               | 2/44 [00:03<01:02,  1.49s/it]"
     ]
    },
    {
     "name": "stdout",
     "output_type": "stream",
     "text": [
      "[[['4', '', '', '', '', '9', '8', '', '6'], ['', '', '5', '', '3', '', '', '', '7'], ['3', '', '6', '8', '', '7', '1', '', ''], ['5', '', '', '', '', '1', '6', '8', ''], ['', '7', '9', '', '', '', '4', '2', ''], ['', '2', '8', '4', '', '', '', '', '3'], ['', '', '3', '6', '', '4', '2', '', '1']]]\n"
     ]
    },
    {
     "name": "stderr",
     "output_type": "stream",
     "text": [
      " 11%|█████████▍                                                                         | 5/44 [00:08<01:03,  1.62s/it]"
     ]
    },
    {
     "name": "stdout",
     "output_type": "stream",
     "text": [
      "[[['', '', '', '8', '', '', '', '', ''], ['', '', '', '', '2', '', '', '3', ''], ['7', '', '', '', '', '', '5', '4', ''], ['', '', '', '9', '', '', '', '', '8']]]\n"
     ]
    },
    {
     "name": "stderr",
     "output_type": "stream",
     "text": [
      " 14%|███████████▎                                                                       | 6/44 [00:09<01:00,  1.58s/it]"
     ]
    },
    {
     "name": "stdout",
     "output_type": "stream",
     "text": [
      "No tables found with AWS Textract.\n"
     ]
    },
    {
     "name": "stderr",
     "output_type": "stream",
     "text": [
      " 16%|█████████████▏                                                                     | 7/44 [00:10<00:56,  1.53s/it]"
     ]
    },
    {
     "name": "stdout",
     "output_type": "stream",
     "text": [
      "[[['8', '', '9', '', '', '1', '', '', '7'], ['', '7', '', '', '2', '', '', '', ''], ['', '', '', '', '', '', '4', '', '6'], ['', '', '', '2', '3', '', '', '', '4'], ['7', '5', '', '4', '', '9', '', '2', '3'], ['2', '', '', '', '5', '6', '', '', ''], ['1', '', '4', '', '', '', '', '', ''], ['', '', '', '', '9', '', '', '4', '']]]\n"
     ]
    },
    {
     "name": "stderr",
     "output_type": "stream",
     "text": [
      " 18%|███████████████                                                                    | 8/44 [00:12<00:55,  1.53s/it]"
     ]
    },
    {
     "name": "stdout",
     "output_type": "stream",
     "text": [
      "[[['', '9', '', '6', '', '5', '2'], ['3', '', '', '', '9', '', '6'], ['5', '1', '', '', '', '', '9 4']], [['', '', '8', '9', '5', '6', '4'], ['', '', '', '', '', '', ''], ['', '', '3', '2', '7', '1', '6']]]\n"
     ]
    },
    {
     "name": "stderr",
     "output_type": "stream",
     "text": [
      " 20%|████████████████▉                                                                  | 9/44 [00:14<00:55,  1.58s/it]"
     ]
    },
    {
     "name": "stdout",
     "output_type": "stream",
     "text": [
      "No tables found with AWS Textract.\n"
     ]
    },
    {
     "name": "stderr",
     "output_type": "stream",
     "text": [
      " 23%|██████████████████▋                                                               | 10/44 [00:15<00:52,  1.53s/it]"
     ]
    },
    {
     "name": "stdout",
     "output_type": "stream",
     "text": [
      "[[['4 4 5 3', '9', '2 5 6', '8'], ['5 2 8 7 6 8', '1', '', '9 5'], ['7', '4', '', ''], [':', '', '', '6'], ['2 841', '', '', '']]]\n"
     ]
    },
    {
     "name": "stderr",
     "output_type": "stream",
     "text": [
      " 25%|████████████████████▌                                                             | 11/44 [00:17<00:51,  1.56s/it]"
     ]
    },
    {
     "name": "stdout",
     "output_type": "stream",
     "text": [
      "[[['8', '', '', '5', '', '4', '', ''], ['5', '', '2', '', '', '1', '', ''], ['7', '4', '', '', '3', '', '', ''], ['', '', '', '7', '4', '', '', ''], ['6 4', '', '1', '', '8', '', '9', ''], ['3', '6', '', '', '', '', '', ''], ['9', '', '', '4', '5', '', '', ''], ['5', '', '6', '', '7', '', '', ''], ['6', '9', '', '', '', '2', '4', '']]]\n"
     ]
    },
    {
     "name": "stderr",
     "output_type": "stream",
     "text": [
      " 27%|██████████████████████▎                                                           | 12/44 [00:19<00:52,  1.65s/it]"
     ]
    },
    {
     "name": "stdout",
     "output_type": "stream",
     "text": [
      "No tables found with AWS Textract.\n"
     ]
    },
    {
     "name": "stderr",
     "output_type": "stream",
     "text": [
      " 32%|██████████████████████████                                                        | 14/44 [00:22<00:52,  1.75s/it]"
     ]
    },
    {
     "name": "stdout",
     "output_type": "stream",
     "text": [
      "Sudoku could not be solved. Status = INFEASIBLE\n",
      "[['', '', '', '', '', '', '', '', ''], ['', '', '', '4', '9', '', '4', '', '7'], ['', '', '', '', '', '', '1', '', ''], ['', '', '', '', '', '', '', '', ''], ['', '', '', '', '', '', '', '', ''], ['', '3', '', '', '', '', '', '', ''], ['', '', '2', '', '', '', '', '', ''], ['', '', '', '', '', '', '7', '', ''], ['', '7', '', '', '', '', '', '', '']]\n"
     ]
    },
    {
     "name": "stderr",
     "output_type": "stream",
     "text": [
      " 34%|███████████████████████████▉                                                      | 15/44 [00:24<00:49,  1.70s/it]"
     ]
    },
    {
     "name": "stdout",
     "output_type": "stream",
     "text": [
      "[[['', '4', '', '', '', '8', '1', '6'], ['', '', '', '', '', '7', '', '8'], ['', '5', '', '1', '', '3', '', '4'], ['', '', '', '6', '', '', '', '7 1'], ['', '', '4', '9', '', '1', '2', ''], ['3', '1', '', '', '', '5', '', ''], ['4', '', '', '7', '', '6', '', '1'], ['', '3', '', '5', '', '', '', ''], ['5', '', '1', '3', '', '', '', '9']]]\n"
     ]
    },
    {
     "name": "stderr",
     "output_type": "stream",
     "text": [
      " 36%|█████████████████████████████▊                                                    | 16/44 [00:25<00:44,  1.58s/it]"
     ]
    },
    {
     "name": "stdout",
     "output_type": "stream",
     "text": [
      "[[['', '1', '', '6', '', '', '', '', ''], ['', '', '', '', '9', '', '', '', '5'], ['', '3', '', '', '', '', '', '', ''], ['8', '', '', '', '5', '', '', '', ''], ['', '', '', '', '', '', '', '6', ''], ['', '', '', '', '', '7', '3', '1', 'a'], ['', '', '', '', '', '', '', '', '']]]\n"
     ]
    },
    {
     "name": "stderr",
     "output_type": "stream",
     "text": [
      " 41%|█████████████████████████████████▌                                                | 18/44 [00:28<00:39,  1.53s/it]"
     ]
    },
    {
     "name": "stdout",
     "output_type": "stream",
     "text": [
      "[[['', '', '', '', '', '', '6', '', ''], ['', '', '6', '', '', '', '', '', ''], ['', '7', '', '', '', '1', '', '', ''], ['', '', '2', '', '5', '', '', '', ''], ['', '', ':', '', '', '', '', '', '8'], ['', '', '9', '6', '2', '', '', '', ''], ['', '1', '', '', '', '3', '', '', '4'], ['', '8', '', '1', '', '', '', '', ''], ['', '', '', '', '', '9', '5', '', '']]]\n"
     ]
    },
    {
     "name": "stderr",
     "output_type": "stream",
     "text": [
      " 43%|███████████████████████████████████▍                                              | 19/44 [00:29<00:36,  1.46s/it]"
     ]
    },
    {
     "name": "stdout",
     "output_type": "stream",
     "text": [
      "[[['', '', '', '', '', '', '1', '', ''], ['6', '', '', '3', 'C', '', 'e', '0', ''], ['', '', '', '', '', '2', '5', '', ''], ['', '0', '', '', '8', '', '', '4', ''], ['', '', '4', '', '', '', '', '', 'C'], ['', '', '', '', '6', '', '', '', '9'], ['', '', '', '', '', '9', '', '', '6'], ['', '', '7', '', '', '', '', '', '8'], ['', '1', '5', '', '', '3', '', '', '']]]\n"
     ]
    },
    {
     "name": "stderr",
     "output_type": "stream",
     "text": [
      " 45%|█████████████████████████████████████▎                                            | 20/44 [00:31<00:35,  1.49s/it]"
     ]
    },
    {
     "name": "stdout",
     "output_type": "stream",
     "text": [
      "[[['', '', '8', '', '', '2', '', '6', ''], ['', '5', '', '', '', '', '', '3', ''], ['', '', '', '9', '', '7', '', '', ''], ['', '', '2', '', '', '', '7', '', ''], ['', '', '8', '', 'e', '', '', '', ''], ['', '', '', '3', '1', '', '', '', ''], ['4', '3', '', '', '5', '', '', '', ''], ['', '1', '', '', '4', '', '', '', ''], ['', '', '', '', '', '', '', '', '']]]\n"
     ]
    },
    {
     "name": "stderr",
     "output_type": "stream",
     "text": [
      " 48%|███████████████████████████████████████▏                                          | 21/44 [00:33<00:35,  1.54s/it]"
     ]
    },
    {
     "name": "stdout",
     "output_type": "stream",
     "text": [
      "[[['', 'Sudoku', '', 'leicht', '', '', '', '', ''], ['', '', '', '', '', '', '', '', ''], ['', '', '', '1', '', '3', '', '', ''], ['', '7', '', '6', '5', '4', '', '2', ''], ['', '', '3', '7', '9', '2', '4', '', ''], ['7', '9', '8', '', '', '', '2', '1', '4'], ['to', '6', '4', '', '', '', '9', '5', ''], ['1', '3', '5', '', '', '', '6', '7', '8'], ['', '', '1', '9', '6', '5', '7', '', '']]]\n"
     ]
    },
    {
     "name": "stderr",
     "output_type": "stream",
     "text": [
      " 50%|█████████████████████████████████████████                                         | 22/44 [00:34<00:33,  1.53s/it]"
     ]
    },
    {
     "name": "stdout",
     "output_type": "stream",
     "text": [
      "Sudoku could not be solved. Status = INFEASIBLE\n",
      "[['2', '', '3', '', '', '1', '', '8', '4'], ['1', '', '', '', '4', '', '', '', ''], ['', '', '', '', '', '', '', '', ''], ['', '', '5', '6', '', '', '1', '', '7'], ['7', '', '', '3', '6', '2', '8', '', ''], ['', '', '', '', '', '', '', '', ''], ['', '2', '', '1', '', '4', '', '9', ''], ['', '', '6', '9', '8', '7', '', '', '2'], ['8', '', '1', '', '', '3', '6', '', '']]\n"
     ]
    },
    {
     "name": "stderr",
     "output_type": "stream",
     "text": [
      " 52%|██████████████████████████████████████████▊                                       | 23/44 [00:35<00:31,  1.49s/it]"
     ]
    },
    {
     "name": "stdout",
     "output_type": "stream",
     "text": [
      "[[['', '', '', '6', '', '', '', '', '4'], ['9', '', '', '', '', '', '3', '', ''], ['', '', '8', '', '7', '', '', '', ''], ['', '5', '6', '2', '', '', '', '', ''], ['', '7', '', '', '', '', '', '', ''], ['', '', '', '5', '', '', '9', '', ''], ['2', '6', '', '', '', '', '', '', ''], ['', '', '', '', '9', '3', '8', '', '']]]\n"
     ]
    },
    {
     "name": "stderr",
     "output_type": "stream",
     "text": [
      " 55%|████████████████████████████████████████████▋                                     | 24/44 [00:37<00:28,  1.43s/it]"
     ]
    },
    {
     "name": "stdout",
     "output_type": "stream",
     "text": [
      "[[['', '', '3', '', '', '9', '', '', ''], ['', '', '', '', '', '', '5', '1', ''], ['', '', '', '', '', '', '', '', ''], ['', '', '', '', '', '3', '', '', '7'], ['', '5', '4', '', '', '', '2', '', ''], ['1', '', '', '', '', '', '6', '', '']]]\n"
     ]
    },
    {
     "name": "stderr",
     "output_type": "stream",
     "text": [
      " 57%|██████████████████████████████████████████████▌                                   | 25/44 [00:39<00:29,  1.57s/it]"
     ]
    },
    {
     "name": "stdout",
     "output_type": "stream",
     "text": [
      "No tables found with AWS Textract.\n"
     ]
    },
    {
     "name": "stderr",
     "output_type": "stream",
     "text": [
      " 59%|████████████████████████████████████████████████▍                                 | 26/44 [00:40<00:27,  1.56s/it]"
     ]
    },
    {
     "name": "stdout",
     "output_type": "stream",
     "text": [
      "[[['4', '3', '', '7', '9 2'], ['', '', '7', '', '3'], ['6', '', '', '4', '5'], ['7', '', '', '', '']]]\n"
     ]
    },
    {
     "name": "stderr",
     "output_type": "stream",
     "text": [
      " 64%|████████████████████████████████████████████████████▏                             | 28/44 [00:43<00:24,  1.54s/it]"
     ]
    },
    {
     "name": "stdout",
     "output_type": "stream",
     "text": [
      "[[['3', '', '', '7', '', '1', '', '4', ''], ['', '6', '', '', '9', '', '', '', ''], ['2', '8', '', '', '', '', '', '', ''], ['', '2', '', '', '7', '6', '', '', '5'], ['8', '', '', '', '', '', '', '', '9'], ['7', '', '', '8', '3', '', '', '1', ''], ['', '', '', '', '', '', '', '8', '2']]]\n"
     ]
    },
    {
     "name": "stderr",
     "output_type": "stream",
     "text": [
      " 66%|██████████████████████████████████████████████████████                            | 29/44 [00:45<00:24,  1.61s/it]"
     ]
    },
    {
     "name": "stdout",
     "output_type": "stream",
     "text": [
      "No tables found with AWS Textract.\n"
     ]
    },
    {
     "name": "stderr",
     "output_type": "stream",
     "text": [
      " 73%|███████████████████████████████████████████████████████████▋                      | 32/44 [00:50<00:19,  1.67s/it]"
     ]
    },
    {
     "name": "stdout",
     "output_type": "stream",
     "text": [
      "[[['3', '', '', '7', '', '1', '', '4', ''], ['', '6', '', '', '9', '', '', '', ''], ['2', '8', '', '', '', '', '', '', ''], ['', '2', '', '', '7', '6', '', '', '5'], ['8', '', '', '', '', '', '', '', '9'], ['7', '', '', '8', '3', '', '', '1', ''], ['', '', '', '', '', '', '', '8', '2'], ['', '', '', '', '', '', '', '', '']]]\n"
     ]
    },
    {
     "name": "stderr",
     "output_type": "stream",
     "text": [
      " 75%|█████████████████████████████████████████████████████████████▌                    | 33/44 [00:52<00:17,  1.60s/it]"
     ]
    },
    {
     "name": "stdout",
     "output_type": "stream",
     "text": [
      "[[['7', '3', '', '', '', '', '', '', ''], ['', '', '', '', '', '9', '', '', '6'], ['2', '', '', '', '', '', '', '', ''], ['', '', '', '3', '7', '', '', '', ''], ['', '', '6', '', '5', '', '', '', '9'], ['', '', '', '', '', '', '4', '', ''], ['', '', '', '', '', '', '', '2', 'a'], ['', '', '', '', '', '4', '', '7', ''], ['', '', '4', '9', '', '1', '', '', '']]]\n"
     ]
    },
    {
     "name": "stderr",
     "output_type": "stream",
     "text": [
      " 80%|█████████████████████████████████████████████████████████████████▏                | 35/44 [00:55<00:15,  1.67s/it]"
     ]
    },
    {
     "name": "stdout",
     "output_type": "stream",
     "text": [
      "[[['', '', '', '', '', '5', '9', ''], ['2', '4', '', '7', '8', '', '3', ''], ['8', '', '9', '5', '', '4', '', ''], ['', '8', '', '9', '4', '', '7', ''], ['', '', '1', '', '', '3', '', ''], ['', '9', '', '6', '5', '', '4', ''], ['', '', '8', '6', '', '9', '', '3'], ['', '2', '', '1', '9', '', '5', '6'], ['', '1', '6', '', '', '', '', '']]]\n"
     ]
    },
    {
     "name": "stderr",
     "output_type": "stream",
     "text": [
      " 82%|███████████████████████████████████████████████████████████████████               | 36/44 [00:57<00:13,  1.64s/it]"
     ]
    },
    {
     "name": "stdout",
     "output_type": "stream",
     "text": [
      "[[['8', '', '', '', '5', '', '4'], ['', '5', '', '2', '', '', '1'], ['', '7', '4', '', '', '', '3'], ['', '', '', '', '7', '', '4'], ['6', '4', '', '1', '', '', '8 9'], ['', '3', '6', '', '', '', ''], ['', '9', '', '', '4', '', '5'], ['5', '', '', '6', '', '', '7'], ['', '', '9', '', '', '', '2 4']]]\n"
     ]
    },
    {
     "name": "stderr",
     "output_type": "stream",
     "text": [
      " 86%|██████████████████████████████████████████████████████████████████████▊           | 38/44 [01:00<00:09,  1.58s/it]"
     ]
    },
    {
     "name": "stdout",
     "output_type": "stream",
     "text": [
      "No tables found with AWS Textract.\n"
     ]
    },
    {
     "name": "stderr",
     "output_type": "stream",
     "text": [
      " 89%|████████████████████████████████████████████████████████████████████████▋         | 39/44 [01:01<00:07,  1.50s/it]"
     ]
    },
    {
     "name": "stdout",
     "output_type": "stream",
     "text": [
      "[[['', '4', '', '', '', '', '3', '8', ''], ['', '', '', '', '', '9', '2', '', ''], ['', '9', '6', '7', '', '', '', '', ''], ['2', '', '', '9', '8', '', '', '', ''], ['', '', '3', '', '', '', '', '', ''], ['', '', '', '', '', '', '', '', '']]]\n"
     ]
    },
    {
     "name": "stderr",
     "output_type": "stream",
     "text": [
      " 91%|██████████████████████████████████████████████████████████████████████████▌       | 40/44 [01:03<00:05,  1.48s/it]"
     ]
    },
    {
     "name": "stdout",
     "output_type": "stream",
     "text": [
      "[[['3', '', '', '7', '', '1', '', '4', ''], ['', '6', '', '', '9', '', '', '', ''], ['2', '8', '', '', '', '', '', '', ''], ['', '2', '', '', '7', '6', '', '', '5'], ['8', '', '', '', '', '', '', '', '9'], ['7', '', '', '8', '3', '', '', '1', '']]]\n"
     ]
    },
    {
     "name": "stderr",
     "output_type": "stream",
     "text": [
      " 98%|████████████████████████████████████████████████████████████████████████████████▏ | 43/44 [01:07<00:01,  1.59s/it]"
     ]
    },
    {
     "name": "stdout",
     "output_type": "stream",
     "text": [
      "[[['', '8', '', '', '', '5', '', '4', ''], ['', '', '5', '', '2', '', '', '1', ''], ['', '', '7', '4', '', '', '3', '', ''], ['', '', '', '', '', '7', '4', '', ''], ['6', '', '4', '', '1', '', '8', '', '9'], ['', '', '3', '6', '', '', '', '', '']]]\n"
     ]
    },
    {
     "name": "stderr",
     "output_type": "stream",
     "text": [
      "100%|██████████████████████████████████████████████████████████████████████████████████| 44/44 [01:09<00:00,  1.58s/it]\n",
      "  0%|                                                                                           | 0/44 [00:00<?, ?it/s]"
     ]
    },
    {
     "name": "stdout",
     "output_type": "stream",
     "text": [
      "('', 0.2727272727272727)\n"
     ]
    },
    {
     "name": "stderr",
     "output_type": "stream",
     "text": [
      "  2%|█▉                                                                                 | 1/44 [00:02<01:34,  2.19s/it]"
     ]
    },
    {
     "name": "stdout",
     "output_type": "stream",
     "text": [
      "[[['5', '7', '', '', 'B', '', '', '3', ''], ['', '', '', '', '5', '2', '', '', ''], ['', '', '', '', '', '', '', '', ''], ['', '5', '6', '3', '', '', '', '', ''], ['', '', '1', '', '2', '', '', '7', ''], ['', '', '', '', '', '5', '', '9', ''], ['', '', '', '2', '1', '', '', '', ''], ['', '6', '', '', '', '', '', '', ''], ['7', '', '4', '', '9', '', '', '', '']]]\n"
     ]
    },
    {
     "name": "stderr",
     "output_type": "stream",
     "text": [
      "  9%|███████▌                                                                           | 4/44 [00:08<01:27,  2.20s/it]"
     ]
    },
    {
     "name": "stdout",
     "output_type": "stream",
     "text": [
      "Sudoku could not be solved. Status = INFEASIBLE\n",
      "[['5', '', '4', '6', '7', '', '1', '', '3'], ['', '', '', '', '', '', '', '', '4'], ['', '9', '', '', '', '8', '6', '7', ''], ['', '', '', '', '', '', '', '', ''], ['', '', '7', '', '', '', '', '', '9'], ['', '', '5', '', '3', '', '8', '', ''], ['8', '', '', '', '', '6', '3', '', ''], ['', '8', '3', '9', '', '', '', '5', ''], ['4', '', '', '', '', '', '', '', '']]\n"
     ]
    },
    {
     "name": "stderr",
     "output_type": "stream",
     "text": [
      " 16%|█████████████▏                                                                     | 7/44 [00:15<01:17,  2.09s/it]"
     ]
    },
    {
     "name": "stdout",
     "output_type": "stream",
     "text": [
      "[[['', '', '', '-', 'to', '', '', ''], ['', '', '', '', '', '', '', ''], ['', '', '', '', '', '', '', ''], ['', '', '', '', '', 'A', '10', ''], ['', '', 'c', '', 'S', '', '3', 'NO'], ['', '', '', '', '0', '6', '', ''], ['', '-', '', '', '', '', '', 'A'], ['', '', 'A', '', '', '2', '', ''], ['', '00', '', '', '', '3', '4', '']]]\n"
     ]
    },
    {
     "name": "stderr",
     "output_type": "stream",
     "text": [
      " 20%|████████████████▉                                                                  | 9/44 [00:18<01:10,  2.01s/it]"
     ]
    },
    {
     "name": "stdout",
     "output_type": "stream",
     "text": [
      "Sudoku could not be solved. Status = INFEASIBLE\n",
      "[['', '', '', '', '', '5', '', '4', ''], ['', '', '5', '', '2', '', '', '1', ''], ['', '', '7', '4', '', '', '3', '', ''], ['', '', '', '', '', '7', '4', '', ''], ['6', '', '4', '', '1', '', '8', '', '9'], ['', '', '3', '6', '', '', '', '', ''], ['', '', '', '', '', '4', '5', '', ''], ['', '5', '', '', '6', '', '7', '', ''], ['', '6', '', '0', '', '', '', '2', '4']]\n"
     ]
    },
    {
     "name": "stderr",
     "output_type": "stream",
     "text": [
      " 23%|██████████████████▋                                                               | 10/44 [00:20<01:04,  1.91s/it]"
     ]
    },
    {
     "name": "stdout",
     "output_type": "stream",
     "text": [
      "[[['N 5 un G3', ''], ['', ''], ['', '6'], ['', 'C 20'], ['', 'CO']]]\n"
     ]
    },
    {
     "name": "stderr",
     "output_type": "stream",
     "text": [
      " 25%|████████████████████▌                                                             | 11/44 [00:22<01:03,  1.93s/it]"
     ]
    },
    {
     "name": "stdout",
     "output_type": "stream",
     "text": [
      "[[['', '8', '', '5', '4', '', ''], ['', '', '5 2', '', '1', '', 't'], ['', '', '7 4', '', '3', '', 'e I s'], ['', '', '', '7', '4', '', 'c h w'], ['6', '', '4 1', '', '8', '9', ''], ['', '', '3 6', '', '', '', ''], ['', '', '9', '4', '5', '', ''], ['', '5', '6', '', '7', '', ''], ['', '6', '9 0', '', '2', '4', '']]]\n"
     ]
    },
    {
     "name": "stderr",
     "output_type": "stream",
     "text": [
      " 27%|██████████████████████▎                                                           | 12/44 [00:24<01:05,  2.04s/it]"
     ]
    },
    {
     "name": "stdout",
     "output_type": "stream",
     "text": [
      "No tables found with AWS Textract.\n"
     ]
    },
    {
     "name": "stderr",
     "output_type": "stream",
     "text": [
      " 30%|████████████████████████▏                                                         | 13/44 [00:26<01:02,  2.02s/it]"
     ]
    },
    {
     "name": "stdout",
     "output_type": "stream",
     "text": [
      "[[['', '8', '', '', '', '5', '', '4', ''], ['', '', '5', '', '2', '', '', '1', ''], ['', '', '7', '4', '', '', '3', '', ''], ['', '', '', '', '', '7', '4', '', ''], ['6', '', '4', '', '1', '', '8', '', '9'], ['', '', '3', '6', '', '', '', '', ''], ['', '', '9', '', '', '4', '5', '', ''], ['', '5', '', '', '6', '', '7', '', ''], ['', '6', '', '9', '', '-', '', '2', '4']]]\n"
     ]
    },
    {
     "name": "stderr",
     "output_type": "stream",
     "text": [
      " 34%|███████████████████████████▉                                                      | 15/44 [00:31<01:01,  2.13s/it]"
     ]
    },
    {
     "name": "stdout",
     "output_type": "stream",
     "text": [
      "Sudoku could not be solved. Status = INFEASIBLE\n",
      "[['', '', '', '', '', '', '', '', ''], ['', '4', '', '', '', '8', '1', '', ''], ['', '', '', '', '', '7', '', '8', ''], ['', '5', '', '1', '', '3', '', '', ''], ['', '', '', '6', '', '', '', '7', ''], ['', '', '4', '9', '', '1', '2', '', ''], ['3', '1', '', '', '', '5', '', '', ''], ['4', '', '', '7', '', '6', '', '1', ''], ['', '3', '', '5', '', '', '', '', '']]\n"
     ]
    },
    {
     "name": "stderr",
     "output_type": "stream",
     "text": [
      " 41%|█████████████████████████████████▌                                                | 18/44 [00:36<00:50,  1.93s/it]"
     ]
    },
    {
     "name": "stdout",
     "output_type": "stream",
     "text": [
      "[[['', '', '', '', '', '', '6', '', ''], ['', '', '6', '', '', '', '', '', ''], ['', '7', '', '', '', '1', '', '', ''], ['', '', '2', '', '5', '', '', '', ''], ['', '', '/', '', '', '', '', '', '8'], ['', '', '9', '6', '2', '', '', '', ''], ['', '1', '', '', '', '3', '', '', '4'], ['', '8', '', '1', '', '', '', '', ''], ['', '', '', '', '', '9', '5', '', '']]]\n"
     ]
    },
    {
     "name": "stderr",
     "output_type": "stream",
     "text": [
      " 43%|███████████████████████████████████▍                                              | 19/44 [00:39<00:50,  2.02s/it]"
     ]
    },
    {
     "name": "stdout",
     "output_type": "stream",
     "text": [
      "[[['', '', '', '', '', '', '1', '', ''], ['6', '', '', '3', 'C', '', 'a', '', ''], ['', '', '', '', '', '2', '5', '', ''], ['', '', '', '', '8', '', '', '4', ''], ['', '', '4', '', '', '', '', '', ''], ['', '', '', '', '6', '', '', '', '9'], ['', '', '', '', '', '9', '', '', '6'], ['', '', '7', '', '', '', '', '', '8'], ['', '1', '5', '', '', '3', '', '', '']]]\n"
     ]
    },
    {
     "name": "stderr",
     "output_type": "stream",
     "text": [
      " 48%|███████████████████████████████████████▏                                          | 21/44 [00:44<00:53,  2.30s/it]"
     ]
    },
    {
     "name": "stdout",
     "output_type": "stream",
     "text": [
      "[[['', '', '', ', 1', '', '3', '', '', ''], ['', '7', '', '6', '5', '4', '', '2', ''], ['', '', '3', '7', '9', '2', '4', '', ''], ['7', '9', '8', '', '', '', '2', '1', '4'], ['Lo', '6', '4', '', '', '', '9', '5', 'N.'], ['1', '3', '5', '', '', '', '6', '7', '8'], ['', '', '1', '9', '6', '5', '7', '', ''], ['', '5', 'x', '4', '7', '8', '', '3', ''], ['', '', '', '3', '', '1', '', '', '']]]\n"
     ]
    },
    {
     "name": "stderr",
     "output_type": "stream",
     "text": [
      " 57%|██████████████████████████████████████████████▌                                   | 25/44 [00:52<00:40,  2.14s/it]"
     ]
    },
    {
     "name": "stdout",
     "output_type": "stream",
     "text": [
      "No tables found with AWS Textract.\n"
     ]
    },
    {
     "name": "stderr",
     "output_type": "stream",
     "text": [
      " 61%|██████████████████████████████████████████████████▎                               | 27/44 [00:56<00:35,  2.10s/it]"
     ]
    },
    {
     "name": "stdout",
     "output_type": "stream",
     "text": [
      "Sudoku could not be solved. Status = INFEASIBLE\n",
      "[['', '', '', '', '', '', '', '', ''], ['', '', '6', '', '', '1', '', '9', ''], ['', '', '', '', '', '', '6', '7', '4'], ['', '', '', '', '7', '', '', '8', '2'], ['', '', '', '', '3', '', '9', '', ''], ['', '', '', '6', '', '', '', '1', ''], ['', '4', '', '', '1', '', '2', '', ''], ['', '6', '8', '3', '', '', '5', '', ''], ['', '', '9', '1', '6', '', '', '', '']]\n"
     ]
    },
    {
     "name": "stderr",
     "output_type": "stream",
     "text": [
      " 66%|██████████████████████████████████████████████████████                            | 29/44 [01:00<00:30,  2.06s/it]"
     ]
    },
    {
     "name": "stdout",
     "output_type": "stream",
     "text": [
      "No tables found with AWS Textract.\n"
     ]
    },
    {
     "name": "stderr",
     "output_type": "stream",
     "text": [
      " 68%|███████████████████████████████████████████████████████▉                          | 30/44 [01:02<00:28,  2.05s/it]"
     ]
    },
    {
     "name": "stdout",
     "output_type": "stream",
     "text": [
      "Sudoku could not be solved. Status = INFEASIBLE\n",
      "[['', '', '', '', '', '', '', '', ''], ['', '', '8', '', '', '', '5', '', '4'], ['', '', '', '5', '', '2', '', '', '1'], ['', '', '', '7', '4', '', '', '3', ''], ['', '', '', '', '', '', '7', '4', ''], ['', '6', '', '4', '', '1', '', '8', ''], ['', '', '', '3', '6', '', '', '', ''], ['', '', '', '9', '', '', '4', '5', ''], ['', '', '5', '', '', '6', '', '7', '']]\n"
     ]
    },
    {
     "name": "stderr",
     "output_type": "stream",
     "text": [
      " 77%|███████████████████████████████████████████████████████████████▎                  | 34/44 [01:11<00:21,  2.16s/it]"
     ]
    },
    {
     "name": "stdout",
     "output_type": "stream",
     "text": [
      "Sudoku could not be solved. Status = INFEASIBLE\n",
      "[['', '', '', '', '', '', '', '', ''], ['', '', '', '9', '1', '7', '', '', '3'], ['', '', '', '', '', '', '', '', ''], ['', '', '', '', '', '', '', '', ''], ['', '', '', '', '', '', '1', '4', '5'], ['', '', '', '', '', '', '', '', ''], ['6', '', '8', '', '3', '', '', '', '7'], ['', '', '', '', '', '', '', '', ''], ['3', '6', '', '', '', '8', '', '5', '']]\n"
     ]
    },
    {
     "name": "stderr",
     "output_type": "stream",
     "text": [
      " 80%|█████████████████████████████████████████████████████████████████▏                | 35/44 [01:13<00:19,  2.18s/it]"
     ]
    },
    {
     "name": "stdout",
     "output_type": "stream",
     "text": [
      "[[['', '', '', '', '', '', '', '.', '5'], ['', '', '2', '4', '', '7', '', '8', ''], ['', '', '8', '', '9', '', '5', '', '4'], ['', '', '', '8', '', '9', '', '4', ''], ['', '', '', '', '1', '', '', '', '3'], ['', '', '', '9', '-', '6', '', '5', ''], ['', '', '', '', '8', '', '6', '', '9'], ['', '', '', '2', '', '1', '', '9', ''], ['', '', '', '1', '6', '', '', '', '']]]\n"
     ]
    },
    {
     "name": "stderr",
     "output_type": "stream",
     "text": [
      " 82%|███████████████████████████████████████████████████████████████████               | 36/44 [01:16<00:17,  2.21s/it]"
     ]
    },
    {
     "name": "stdout",
     "output_type": "stream",
     "text": [
      "No tables found with AWS Textract.\n"
     ]
    },
    {
     "name": "stderr",
     "output_type": "stream",
     "text": [
      " 86%|██████████████████████████████████████████████████████████████████████▊           | 38/44 [01:19<00:12,  2.09s/it]"
     ]
    },
    {
     "name": "stdout",
     "output_type": "stream",
     "text": [
      "Sudoku could not be solved. Status = INFEASIBLE\n",
      "[['', '', '', '', '', '', '', '', '2'], ['', '', '', '', '', '', '', '', ''], ['', '', '', '', '2', '', '', '', ''], ['', '', '', '', '', '', '6', '', ''], ['', '', '', '4', '', '', '1', '', ''], ['', '', '', '', '', '', '', '8', ''], ['', '', '', '', '', '5', '', '9', '2'], ['', '', '', '8', '', '', '', '', ''], ['', '5', '', '', '9', '', '', '', '']]\n"
     ]
    },
    {
     "name": "stderr",
     "output_type": "stream",
     "text": [
      " 91%|██████████████████████████████████████████████████████████████████████████▌       | 40/44 [01:24<00:08,  2.19s/it]"
     ]
    },
    {
     "name": "stdout",
     "output_type": "stream",
     "text": [
      "[[['', '', '', '', '', '', '', '', ''], ['', '', '', '', '', '', '', '', ''], ['', '', '', '', '', '', '', '', ''], ['', '', '', '', '00', '', 'N', '', '3'], ['', '', '', '', '', '', '', '', ''], ['', '', '', '', '', 'N', '00', 'O', ''], ['', '', '', '', '', '', '', '', ''], ['', '', '', '', '', '', '', '', ''], ['', '', '', '', '', '', '', '', '']]]\n"
     ]
    },
    {
     "name": "stderr",
     "output_type": "stream",
     "text": [
      " 98%|████████████████████████████████████████████████████████████████████████████████▏ | 43/44 [01:30<00:02,  2.16s/it]"
     ]
    },
    {
     "name": "stdout",
     "output_type": "stream",
     "text": [
      "No tables found with AWS Textract.\n"
     ]
    },
    {
     "name": "stderr",
     "output_type": "stream",
     "text": [
      "100%|██████████████████████████████████████████████████████████████████████████████████| 44/44 [01:32<00:00,  2.11s/it]\n",
      "\u001b[31m\u001b[1mrequirements:\u001b[0m pandas>=1.1.4 not found and is required by YOLOv5, attempting auto-update...\n"
     ]
    },
    {
     "name": "stdout",
     "output_type": "stream",
     "text": [
      "[[['', '8', '', '', '', '5', '', '4', ''], ['', '', '5', '', '2', '', '', '1', ''], ['', '', '7', '4', '', '', '3', '', ''], ['', '', '', '', '', '7', '4', '', ''], ['6', '', '4', '', '1', '', '8', '', '9'], ['', '', '3', '6', '', '', '', '', ''], ['', '', '9', '', '', '4', '5', '', ''], ['', '5', '', '', '6', '', '7', '', ''], ['', '6', '', 'O', '', '', '', '2', '4']]]\n",
      "('Laplacian (alpha=10),', 0.4772727272727273)\n"
     ]
    },
    {
     "name": "stderr",
     "output_type": "stream",
     "text": [
      "\u001b[31m\u001b[1mrequirements:\u001b[0m Command 'pip install 'pandas>=1.1.4'' returned non-zero exit status 1.\n",
      "YOLOv5  v6.1-118-g3bb233a torch 1.10.0+cpu CPU\n",
      "\n",
      "Fusing layers... \n",
      "YOLOv5s summary: 213 layers, 7012822 parameters, 0 gradients, 15.8 GFLOPs\n",
      "Adding AutoShape... \n",
      "  2%|█▉                                                                                 | 1/44 [00:01<01:24,  1.97s/it]"
     ]
    },
    {
     "name": "stdout",
     "output_type": "stream",
     "text": [
      "[[['5 7', '', '', '8 5', '2', '3', '2 1'], ['5', '6', '3', '', '', '', ''], ['', '1', '', '2', '', '7', ''], ['', '', '', '', '5', '9', '6']]]\n"
     ]
    },
    {
     "name": "stderr",
     "output_type": "stream",
     "text": [
      "  5%|███▊                                                                               | 2/44 [00:03<01:22,  1.97s/it]"
     ]
    },
    {
     "name": "stdout",
     "output_type": "stream",
     "text": [
      "[[['4', '', '', '', '', '9', '8', '', '6'], ['', '', '5', '', '3', '', '', '', '7'], ['3', '', '6', '8', '', '7', '1', '', ''], ['5', '', '', '', '', '1', '6', '8', '']]]\n"
     ]
    },
    {
     "name": "stderr",
     "output_type": "stream",
     "text": [
      " 11%|█████████▍                                                                         | 5/44 [00:09<01:09,  1.79s/it]"
     ]
    },
    {
     "name": "stdout",
     "output_type": "stream",
     "text": [
      "No tables found with AWS Textract.\n"
     ]
    },
    {
     "name": "stderr",
     "output_type": "stream",
     "text": [
      " 14%|███████████▎                                                                       | 6/44 [00:10<01:07,  1.78s/it]"
     ]
    },
    {
     "name": "stdout",
     "output_type": "stream",
     "text": [
      "No tables found with AWS Textract.\n"
     ]
    },
    {
     "name": "stderr",
     "output_type": "stream",
     "text": [
      " 16%|█████████████▏                                                                     | 7/44 [00:12<01:05,  1.77s/it]"
     ]
    },
    {
     "name": "stdout",
     "output_type": "stream",
     "text": [
      "[[['8', '7', '9', '', '2', '1', '', '7'], ['', '', '', '', '', '', '4', '6'], ['', '', '', '2', '3', '', '', '4'], ['7', '5', '', '4', '', '9', '2', '3'], ['2', '', '', '', '5', '6', '', ''], ['1', '', '4', '', '', '', '', ''], ['', '', '', '', '', '', '4', '']]]\n"
     ]
    },
    {
     "name": "stderr",
     "output_type": "stream",
     "text": [
      " 18%|███████████████                                                                    | 8/44 [00:14<01:10,  1.95s/it]"
     ]
    },
    {
     "name": "stdout",
     "output_type": "stream",
     "text": [
      "[[['', '9', '', '6', '', '5', '2'], ['3', '', '', '', '9', '', '6'], ['5', '1', '', '', '', '', '9 4']]]\n"
     ]
    },
    {
     "name": "stderr",
     "output_type": "stream",
     "text": [
      " 20%|████████████████▉                                                                  | 9/44 [00:16<01:06,  1.90s/it]"
     ]
    },
    {
     "name": "stdout",
     "output_type": "stream",
     "text": [
      "[[['8', '', '', '', '5', '', '4', ''], ['', '5', '', '2', '', '', '1', ''], ['', '7', '4', '', '', '3', '', ''], ['', '', '', '', '7', '4', '', ''], ['6', '4', '', '1', '', '8', '', '9'], ['', '3', '6', '', '', '', '', ''], ['', '9', '', '', '4', '5', '', ''], ['5', '', '', '6', '', '7', '', ''], ['6', '', '9', '', '', '', '2', '4']]]\n"
     ]
    },
    {
     "name": "stderr",
     "output_type": "stream",
     "text": [
      " 23%|██████████████████▋                                                               | 10/44 [00:18<01:03,  1.86s/it]"
     ]
    },
    {
     "name": "stdout",
     "output_type": "stream",
     "text": [
      "[[['4', '9 2 8'], ['4', '5'], ['5 3', '6']]]\n"
     ]
    },
    {
     "name": "stderr",
     "output_type": "stream",
     "text": [
      " 25%|████████████████████▌                                                             | 11/44 [00:20<01:00,  1.82s/it]"
     ]
    },
    {
     "name": "stdout",
     "output_type": "stream",
     "text": [
      "[[['8', '', '', '5', '', '4', ''], ['5', '', '2', '', '', '1', ''], ['7', '4', '', '', '3', '', ''], ['', '', '', '7', '4', '', ''], ['6 4', '', '1', '', '8', '', '9'], ['3', '6', '', '', '', '', ''], ['9', '', '', '4', '5', '', ''], ['5', '', '6', '', '7', '', ''], ['6', '9', '', '', '', '2', '4']]]\n"
     ]
    },
    {
     "name": "stderr",
     "output_type": "stream",
     "text": [
      " 27%|██████████████████████▎                                                           | 12/44 [00:21<00:57,  1.80s/it]"
     ]
    },
    {
     "name": "stdout",
     "output_type": "stream",
     "text": [
      "[[['8', '', '', '', '5', '', '4', ''], ['6', '5', '', '2', '', '', '1', ''], ['', '7', '4', '', '', '3', '', ''], ['', '', '', '', '7', '4', '', ''], ['6 4', '', '', '1', '', '8', '', '9'], ['3', '', '6', '', '', '', '', ''], ['9', '', '', '', '4', '5', '', ''], ['5', '', '', '6', '', '7', '', ''], ['6', '9', '', '', '', '', '2', '4']]]\n"
     ]
    },
    {
     "name": "stderr",
     "output_type": "stream",
     "text": [
      " 30%|████████████████████████▏                                                         | 13/44 [00:23<00:54,  1.75s/it]"
     ]
    },
    {
     "name": "stdout",
     "output_type": "stream",
     "text": [
      "[[['', '8', '', '', '', '5', '', '4', ''], ['', '', '5', '', '2', '', '', '1', ''], ['', '', '7', '4', '', '', '3', '', ''], ['', '', '', '', '', '7', '4', '', ''], ['6', '', '4', '', '1', '', '8', '', '9']]]\n"
     ]
    },
    {
     "name": "stderr",
     "output_type": "stream",
     "text": [
      " 32%|██████████████████████████                                                        | 14/44 [00:25<00:51,  1.73s/it]"
     ]
    },
    {
     "name": "stdout",
     "output_type": "stream",
     "text": [
      "[[['', '', '', '', '', '', '', '', ''], ['3', '2', '', '', '', '7', '', '', ''], ['', '7', '', '', '', '', '', '4', ''], ['', '1', '4', '', '', '', '', '8', '']]]\n"
     ]
    },
    {
     "name": "stderr",
     "output_type": "stream",
     "text": [
      " 34%|███████████████████████████▉                                                      | 15/44 [00:27<00:51,  1.79s/it]"
     ]
    },
    {
     "name": "stdout",
     "output_type": "stream",
     "text": [
      "Sudoku could not be solved. Status = INFEASIBLE\n",
      "[['', '4', '', '', '', '8', '1', '6', ''], ['', '', '', '', '', '7', '', '8', ''], ['', '5', '', '1', '', '3', '', '', '4'], ['', '', '', '6', '', '', '', '7', '1'], ['', '', '4', '9', '', '1', '2', '', ''], ['3', '1', '', '', '', '5', '', '', ''], ['4', '', '', '7', '', '6', '', '1', ''], ['', '3', '', '5', '', '', '', '', ''], ['5', '', '1', '3', '', '', '', '9', '']]\n"
     ]
    },
    {
     "name": "stderr",
     "output_type": "stream",
     "text": [
      " 36%|█████████████████████████████▊                                                    | 16/44 [00:28<00:49,  1.77s/it]"
     ]
    },
    {
     "name": "stdout",
     "output_type": "stream",
     "text": [
      "[[['', '1', '', '6', '', '', '', '', ''], ['', '', '', '', '9', '', '', '', '5'], ['', '3', '', '', '', '', '', '', ''], ['8', '', '', '', '5', '', '', '', ''], ['', '', '', '', '', '', '', '6', ''], ['', '', '', '', '', '7', '3', '1', '']]]\n"
     ]
    },
    {
     "name": "stderr",
     "output_type": "stream",
     "text": [
      " 41%|█████████████████████████████████▌                                                | 18/44 [00:32<00:45,  1.76s/it]"
     ]
    },
    {
     "name": "stdout",
     "output_type": "stream",
     "text": [
      "[[['', '', '', '', '', '', '6', '', ''], ['', '', '6', '', '', '', '', '', ''], ['', '7', '', '', '', '1', '', '', '']], [['', '', '2', '', '5', '', '', '', ''], ['', '', '-', '', '', '', '', '', '8'], ['', '', '9', '6', '2', '', '', '', ''], ['', '1', '', '', '', '3', '', '', '4'], ['', '8', '', '1', '', '', '', '', ''], ['', '', '', '', '', '9', '5', '', '']]]\n"
     ]
    },
    {
     "name": "stderr",
     "output_type": "stream",
     "text": [
      " 43%|███████████████████████████████████▍                                              | 19/44 [00:34<00:47,  1.90s/it]"
     ]
    },
    {
     "name": "stdout",
     "output_type": "stream",
     "text": [
      "[[['', '', '', '', '', '', '1', '', ''], ['6', '', '', '3', 'C', '', 'e', '0', ''], ['', '', '', '', '', '2', '5', '', ''], ['', '', '', '', '8', '', '', '4', ''], ['', '', '4', '', '', '', '', '', 'C'], ['', '', '', '', '6', '', '', '', '9'], ['', '', '', '', '', '9', '', '', '6']]]\n"
     ]
    },
    {
     "name": "stderr",
     "output_type": "stream",
     "text": [
      " 45%|█████████████████████████████████████▎                                            | 20/44 [00:36<00:44,  1.83s/it]"
     ]
    },
    {
     "name": "stdout",
     "output_type": "stream",
     "text": [
      "Sudoku could not be solved. Status = INFEASIBLE\n",
      "[['', '', '8', '', '', '2', '', '6', ''], ['', '5', '', '', '', '', '', '3', ''], ['', '', '', '9', '', '7', '', '', ''], ['', '', '2', '', '', '', '7', '', ''], ['', '', '8', '', '9', '', '', '', ''], ['', '', '', '3', '1', '', '', '', ''], ['4', '3', '', '', '5', '', '', '', ''], ['', '1', '', '', '4', '', '', '', ''], ['', '', '', '', '', '', '', '', '']]\n"
     ]
    },
    {
     "name": "stderr",
     "output_type": "stream",
     "text": [
      " 48%|███████████████████████████████████████▏                                          | 21/44 [00:38<00:41,  1.81s/it]"
     ]
    },
    {
     "name": "stdout",
     "output_type": "stream",
     "text": [
      "[[['', '', '', '1', '', '3', '', '', ''], ['', '7', '', '6', '5', '4', '', '2', ''], ['', '', '3', '7', '9', '2', '4', '', ''], ['7', '9', '8', '', '', '', '2', '1', '4'], ['o', '6', '4', '', '', '', '9', '5', ''], ['1', '3', '5', '', '', '', '6', '7', '8'], ['', '', '1', '9', '6', '5', '7', '', '']]]\n"
     ]
    },
    {
     "name": "stderr",
     "output_type": "stream",
     "text": [
      " 50%|█████████████████████████████████████████                                         | 22/44 [00:42<00:55,  2.52s/it]"
     ]
    },
    {
     "name": "stdout",
     "output_type": "stream",
     "text": [
      "[[['2 3', '', '', '1', '', '', ''], ['', '', '', '', '', '8', '4'], ['', '', '4', '', '', '', ''], ['5', '6', '', '', '1', '', '7'], ['', '3', '6', '2', '8', '', ''], ['2', '1', '', '4', '', '9', ''], ['6', '9', '8', '7', '', '', '2']]]\n"
     ]
    },
    {
     "name": "stderr",
     "output_type": "stream",
     "text": [
      " 55%|████████████████████████████████████████████▋                                     | 24/44 [00:46<00:44,  2.24s/it]"
     ]
    },
    {
     "name": "stdout",
     "output_type": "stream",
     "text": [
      "[[['', '', '3', '', '', '9', '', '', ''], ['', '', '', '', '', '', '5', '1', ''], ['', '', '', '', '', '', '', '', ''], ['', '', '', '', '', '3', '', '', '7'], ['', '5', '4', '', '', '', '2', '', ''], ['1', '', '', '', '', '', '6', '', ''], ['', '2', '', '', '1', '', '', '', ''], ['', '', '', '', '', '', '', '', '']]]\n"
     ]
    },
    {
     "name": "stderr",
     "output_type": "stream",
     "text": [
      " 57%|██████████████████████████████████████████████▌                                   | 25/44 [00:47<00:39,  2.08s/it]"
     ]
    },
    {
     "name": "stdout",
     "output_type": "stream",
     "text": [
      "[[['8', '', '', '', '5', '', '4', ''], ['', '5', '', '2', '', '', '1', ''], ['', '7', '4', '', '', '3', '', ''], ['', '', '', '', '7', '4', '', ''], ['6', '4', '', '1', '', '8', '', '9'], ['', '3', '6', '', '', '', '', ''], ['', '9', '', '', '4', '5', '', ''], ['5', '', '', '6', '', '7', '', ''], ['6', '', '9', '', '', '', '2', '4']]]\n"
     ]
    },
    {
     "name": "stderr",
     "output_type": "stream",
     "text": [
      " 59%|████████████████████████████████████████████████▍                                 | 26/44 [00:49<00:35,  1.95s/it]"
     ]
    },
    {
     "name": "stdout",
     "output_type": "stream",
     "text": [
      "[[['4', '3', '', '7', '9 2'], ['', '', '7', '', '3'], ['6', '', '', '4', '5'], ['', '', '', '', '']]]\n"
     ]
    },
    {
     "name": "stderr",
     "output_type": "stream",
     "text": [
      " 61%|██████████████████████████████████████████████████▎                               | 27/44 [00:51<00:33,  1.97s/it]"
     ]
    },
    {
     "name": "stdout",
     "output_type": "stream",
     "text": [
      "Sudoku could not be solved. Status = INFEASIBLE\n",
      "[['', '6', '', '', '1', '', '9', '', '5'], ['9', '', '', '', '', '6', '7', '4', ''], ['', '', '', '7', '', '', '8', '2', '6'], ['', '', '', '3', '', '9', '', '', '2'], ['', '', '6', '', '', '', '1', '', ''], ['4', '', '', '1', '', '2', '', '', ''], ['6', '8', '3', '', '', '5', '', '', ''], ['', '9', '1', '6', '', '', '', '', ''], ['5', '', '2', '', '3', '', '', '', '8']]\n"
     ]
    },
    {
     "name": "stderr",
     "output_type": "stream",
     "text": [
      " 64%|████████████████████████████████████████████████████▏                             | 28/44 [00:53<00:30,  1.88s/it]"
     ]
    },
    {
     "name": "stdout",
     "output_type": "stream",
     "text": [
      "[[['3', '', '', '7', '', '1', '', '4', ''], ['', '6', '', '', '9', '', '', '', ''], ['2', '8', '', '', '', '', '', '', ''], ['', '2', '', '', '7', '6', '', '', '5'], ['8', '', '', '', '', '', '', '', '9'], ['7', '', '', '8', '3', '', '', '1', ''], ['', '', '', '', '', '', '', '8', '2']]]\n"
     ]
    },
    {
     "name": "stderr",
     "output_type": "stream",
     "text": [
      " 66%|██████████████████████████████████████████████████████                            | 29/44 [00:54<00:27,  1.85s/it]"
     ]
    },
    {
     "name": "stdout",
     "output_type": "stream",
     "text": [
      "[[['8', '', '', '5', '', '4', ''], ['5', '', '2', '', '', '1', ''], ['7', '4', '', '', '3', '', ''], ['', '', '', '7', '4', '', ''], ['6 4', '', '1', '', '8', '', '9'], ['3', '6', '', '', '', '', ''], ['9', '', '', '4', '5', '', ''], ['5', '', '6', '', '7', '', ''], ['6', '9', '', '', '', '2', '4']]]\n"
     ]
    },
    {
     "name": "stderr",
     "output_type": "stream",
     "text": [
      " 70%|█████████████████████████████████████████████████████████▊                        | 31/44 [00:58<00:23,  1.81s/it]"
     ]
    },
    {
     "name": "stdout",
     "output_type": "stream",
     "text": [
      "[[['', '', '', '', '9', '', '', '6', '8'], ['', '1', '2', '', '8', '', '', '7', ''], ['', '9', '6', '', '', '3', '1', '2', ''], ['5', '6', '', '4', '', '', '7', '', ''], ['9', '', '', '1', '', '8', '', '', '4']]]\n"
     ]
    },
    {
     "name": "stderr",
     "output_type": "stream",
     "text": [
      " 73%|███████████████████████████████████████████████████████████▋                      | 32/44 [01:00<00:21,  1.77s/it]"
     ]
    },
    {
     "name": "stdout",
     "output_type": "stream",
     "text": [
      "[[['3', '', '', '7', '', '1', '', '4', ''], ['', '6', '', '', '9', '', '', '', ''], ['2', '8', '', '', '', '', '', '', ''], ['', '2', '', '', '7', '6', '', '', '5'], ['8', '', '', '', '', '', '', '', '9'], ['7', '', '', '8', '3', '', '', '1', '']]]\n"
     ]
    },
    {
     "name": "stderr",
     "output_type": "stream",
     "text": [
      " 75%|█████████████████████████████████████████████████████████████▌                    | 33/44 [01:01<00:19,  1.74s/it]"
     ]
    },
    {
     "name": "stdout",
     "output_type": "stream",
     "text": [
      "No tables found with AWS Textract.\n"
     ]
    },
    {
     "name": "stderr",
     "output_type": "stream",
     "text": [
      " 77%|███████████████████████████████████████████████████████████████▎                  | 34/44 [01:03<00:17,  1.77s/it]"
     ]
    },
    {
     "name": "stdout",
     "output_type": "stream",
     "text": [
      "Sudoku could not be solved. Status = INFEASIBLE\n",
      "[['', '', '', '9', '1', '7', '', '', '3'], ['', '', '', '', '', '', '1', '4', '5'], ['', '', '', '', '', '', '', '', ''], ['6', '', '8', '', '3', '', '', '', '7'], ['3', '6', '', '', '', '8', '', '5', ''], ['8', '5', '', '4', '', '2', '', '7', '6'], ['', '4', '', '6', '', '', '', '1', '9'], ['1', '', '', '', '6', '', '7', '', '8'], ['5', '3', '2', '', '', '', '', '', '']]\n"
     ]
    },
    {
     "name": "stderr",
     "output_type": "stream",
     "text": [
      " 82%|███████████████████████████████████████████████████████████████████               | 36/44 [01:07<00:14,  1.80s/it]"
     ]
    },
    {
     "name": "stdout",
     "output_type": "stream",
     "text": [
      "[[['8', '', '', '', '5', '', '4', ''], ['', '', '', '', '', '', '', ''], ['', '5', '', '2', '', '', '1', ''], ['', '', '', '', '', '', '', ''], ['', '7', '4', '', '', '3', '', ''], ['', '', '', '', '7', '4', '', ''], ['6', '4', '', '1', '', '8', '', '9'], ['', '', '', '', '', '', '', ''], ['', '3', '6', '', '', '', '', '']]]\n"
     ]
    },
    {
     "name": "stderr",
     "output_type": "stream",
     "text": [
      " 84%|████████████████████████████████████████████████████████████████████▉             | 37/44 [01:09<00:12,  1.79s/it]"
     ]
    },
    {
     "name": "stdout",
     "output_type": "stream",
     "text": [
      "[[['2', '6', '', '3', '', '', '', '', '9'], ['', '4', '3', '', '', '', '', '6', '7'], ['', '', '7', '', '6', '', '1', '3', ''], ['', '', '', '9', '', '7', '', '', '1'], ['', '', '2', '', '', '', '9', '', ''], ['6', '', '', '5', '', '3', '', '', ''], ['', '2', '6', '.', '3', '', '8', '', ''], ['9', '8', '', '', '', '', '3', '2', 'AS'], ['1', '', '', '', '', '8', '', '9', '6']]]\n"
     ]
    },
    {
     "name": "stderr",
     "output_type": "stream",
     "text": [
      " 86%|██████████████████████████████████████████████████████████████████████▊           | 38/44 [01:10<00:10,  1.74s/it]"
     ]
    },
    {
     "name": "stdout",
     "output_type": "stream",
     "text": [
      "No tables found with AWS Textract.\n"
     ]
    },
    {
     "name": "stderr",
     "output_type": "stream",
     "text": [
      " 89%|████████████████████████████████████████████████████████████████████████▋         | 39/44 [01:12<00:08,  1.72s/it]"
     ]
    },
    {
     "name": "stdout",
     "output_type": "stream",
     "text": [
      "[[['', '4', '', '', '', '', '3', '8', ''], ['', '', '', '', '', '9', '2', '', ''], ['', '9', '6', '7', '', '', '', '', ''], ['2', '', '', '9', '8', '', '', '', ''], ['', '', '3', '', '', '', '', '', ''], ['', '', '', '', '', '', '', '', '']]]\n"
     ]
    },
    {
     "name": "stderr",
     "output_type": "stream",
     "text": [
      " 91%|██████████████████████████████████████████████████████████████████████████▌       | 40/44 [01:14<00:07,  1.83s/it]"
     ]
    },
    {
     "name": "stdout",
     "output_type": "stream",
     "text": [
      "[[['3', '', '', '7', '', '1', '', '4', ''], ['', '6', '', '', '9', '', '', '', ''], ['2', '8', '', '', '', '', '', '', ''], ['', '2', '', '', '7', '6', '', '', '5'], ['8', '', '', '', '', '', '', '', '9'], ['7', '', '', '8', '3', '', '', '1', '']]]\n"
     ]
    },
    {
     "name": "stderr",
     "output_type": "stream",
     "text": [
      " 93%|████████████████████████████████████████████████████████████████████████████▍     | 41/44 [01:16<00:05,  1.86s/it]"
     ]
    },
    {
     "name": "stdout",
     "output_type": "stream",
     "text": [
      "[[['', '3', '8', '', '', '9', '7', '2', ''], ['', '', '', '', '4', '', '', '', '6'], ['7', '', '9', '', '', '', '8', '', ''], ['6', '', '', '5', '', '8', '', '', ''], ['', '', '', '', '', '', '', '', ''], ['', '', '', '3', '', '2', '', '', '9']]]\n"
     ]
    },
    {
     "name": "stderr",
     "output_type": "stream",
     "text": [
      " 98%|████████████████████████████████████████████████████████████████████████████████▏ | 43/44 [01:19<00:01,  1.80s/it]"
     ]
    },
    {
     "name": "stdout",
     "output_type": "stream",
     "text": [
      "Sudoku could not be solved. Status = INFEASIBLE\n",
      "[['', '8', '', '', '', '5', '', '4', ''], ['', '', '5', '', '2', '', '', '1', ''], ['', '', '', '', '', '', '', '', ''], ['', '', '7', '4', '', '', '3', '', ''], ['', '', '', '', '', '7', '4', '', ''], ['6', '', '4', '', '1', '', '8', '', '9'], ['', '', '3', '6', '', '', '', '', ''], ['', '', '9', '', '', '4', '5', '', ''], ['5', '', '', '', '6', '', '7', '', '']]\n"
     ]
    },
    {
     "name": "stderr",
     "output_type": "stream",
     "text": [
      "100%|██████████████████████████████████████████████████████████████████████████████████| 44/44 [01:21<00:00,  1.86s/it]\n",
      "\u001b[31m\u001b[1mrequirements:\u001b[0m pandas>=1.1.4 not found and is required by YOLOv5, attempting auto-update...\n"
     ]
    },
    {
     "name": "stdout",
     "output_type": "stream",
     "text": [
      "[[['8', '', '', '', '5', '', '4', ''], ['', '5', '', '2', '', '', '1', ''], ['', '7', '4', '', '', '3', '', ''], ['', '', '', '', '7', '4', '', ''], ['6', '4', '', '1', '', '8', '', '9'], ['', '3', '6', '', '', '', '', ''], ['', '9', '', '', '4', '5', '', ''], ['5', '', '', '6', '', '7', '', ''], ['6', '9', '', '', '', '', '2', '4']]]\n",
      "('Extractor.Activated,', 0.1590909090909091)\n"
     ]
    },
    {
     "name": "stderr",
     "output_type": "stream",
     "text": [
      "\u001b[31m\u001b[1mrequirements:\u001b[0m Command 'pip install 'pandas>=1.1.4'' returned non-zero exit status 1.\n",
      "YOLOv5  v6.1-118-g3bb233a torch 1.10.0+cpu CPU\n",
      "\n",
      "Fusing layers... \n",
      "YOLOv5s summary: 213 layers, 7012822 parameters, 0 gradients, 15.8 GFLOPs\n",
      "Adding AutoShape... \n",
      "  2%|█▉                                                                                 | 1/44 [00:01<01:24,  1.97s/it]"
     ]
    },
    {
     "name": "stdout",
     "output_type": "stream",
     "text": [
      "[[['5', '7', '', '', '', 'B 5', '', '2', ''], ['', '5', '6', '', '3', '', '', '', ''], ['', '', '1', '', '', '2', '', '', ''], ['', '', '', '', '', '', '', '5', ''], ['', '', '', '', '', '', '', '', ''], ['', '', '', '', '2', '1', '', '', ''], ['', '', '', '', '', '', '', '', ''], ['', '6', '', '', '', '', '', '', ''], ['7', '', '4', '', '', '9', '', '', '']]]\n"
     ]
    },
    {
     "name": "stderr",
     "output_type": "stream",
     "text": [
      "  7%|█████▋                                                                             | 3/44 [00:05<01:20,  1.97s/it]"
     ]
    },
    {
     "name": "stdout",
     "output_type": "stream",
     "text": [
      "Sudoku could not be solved. Status = INFEASIBLE\n",
      "[['', '', '', '', '4', '', '', '', '1'], ['', '', '', '', '', '', '', '', ''], ['', '5', '8', '', '9', '', '', '', '3'], ['1', '4', '', '7', '', '3', '2', '6', ''], ['', '', '6', '', '8', '', '', '3', ''], ['', '1', '', '4', '', '2', '6', '', '9'], ['3', '7', '', '9', '', '', '1', '', '2'], ['', '3', '', '8', '', '6', '', '9', '7'], ['', '', '', '', '2', '9', '', '1', '']]\n"
     ]
    },
    {
     "name": "stderr",
     "output_type": "stream",
     "text": [
      "  9%|███████▌                                                                           | 4/44 [00:07<01:16,  1.92s/it]"
     ]
    },
    {
     "name": "stdout",
     "output_type": "stream",
     "text": [
      "[[['5', '', '4', '6', '7', '', '1', '', '3'], ['', '', '', '', '', '', '', '', ''], ['', '', '', '', '', '8', '6', '7', ''], ['', '', '7', '', '', '', '', '', '9'], ['', '', '5', '', '3', '', '', '', ''], ['8', '', '', '', '', '', 'G', '', ''], ['', '8', '3', '', '', '', '', '5', ''], ['4', '', '', '', '', '', '', '', ''], ['1', '', '', '', '2', '3', '7', '', '8']]]\n"
     ]
    },
    {
     "name": "stderr",
     "output_type": "stream",
     "text": [
      " 16%|█████████████▏                                                                     | 7/44 [00:13<01:09,  1.88s/it]"
     ]
    },
    {
     "name": "stdout",
     "output_type": "stream",
     "text": [
      "[[['B', '', '9', '', '', '1', '', '', ''], ['', '7', '', '', '2', '', '', '', ''], ['', '', '', '', '', '', '4', '', ''], ['', '', '', '', '', '', '', '', ''], ['', '', '', '2', '3', '', '', '', ''], ['7', '5', '', '4', '', '9', '', '', '2'], ['2', '', '', '', '5', '6', '', '', ''], ['1', '', '4', '', '', '', '', '', ''], ['', '', '', '', '9', '', '', '', '4']]]\n"
     ]
    },
    {
     "name": "stderr",
     "output_type": "stream",
     "text": [
      " 20%|████████████████▉                                                                  | 9/44 [00:17<01:07,  1.92s/it]"
     ]
    },
    {
     "name": "stdout",
     "output_type": "stream",
     "text": [
      "Sudoku could not be solved. Status = INFEASIBLE\n",
      "[['', '8', '', '', '', '5', '', '4', ''], ['', '', '5', '', '2', '', '', '1', ''], ['', '', '7', '4', '', '', '3', '', ''], ['', '', '', '', '', '7', '4', '', ''], ['6', '', '4', '', '1', '', '8', '', '9'], ['', '', '3', '6', '', '', '', '', ''], ['', '', '9', '', '', '4', '5', '', ''], ['', '5', '', '', '6', '', '7', '', ''], ['', '6', '', '0', '', '', '', '2', '4']]\n"
     ]
    },
    {
     "name": "stderr",
     "output_type": "stream",
     "text": [
      " 23%|██████████████████▋                                                               | 10/44 [00:18<01:03,  1.87s/it]"
     ]
    },
    {
     "name": "stdout",
     "output_type": "stream",
     "text": [
      "[[['N', 'S'], ['CA G', ''], ['g-', ''], ['', ''], ['', ''], ['anla', '6 20'], ['', '']]]\n"
     ]
    },
    {
     "name": "stderr",
     "output_type": "stream",
     "text": [
      " 25%|████████████████████▌                                                             | 11/44 [00:21<01:04,  1.94s/it]"
     ]
    },
    {
     "name": "stdout",
     "output_type": "stream",
     "text": [
      "[[['', '8', '', '', '', '5', '', '4', ''], ['', '', '5', '', '2', '', '', '1', ''], ['', '', '7', '4', '', '', '3', '', ''], ['', '', '', '', '', '7', '4', '', ''], ['6', '', '4', '', '1', '', '8', '', '9'], ['', '', '3', '6', '', '', '', '', ''], ['', '', '9', '', '', '4', '5', '', ''], ['', '5', '', '', '6', '', '7', '', ''], ['', '6', '', '9 0', '', '', '', '2', '4']]]\n"
     ]
    },
    {
     "name": "stderr",
     "output_type": "stream",
     "text": [
      " 30%|████████████████████████▏                                                         | 13/44 [00:24<00:58,  1.89s/it]"
     ]
    },
    {
     "name": "stdout",
     "output_type": "stream",
     "text": [
      "[[['', '8', '', '', '', '5', '', '4', ''], ['', '', '5', '', '2', '', '', '1', ''], ['', '', '7', '4', '', '', '3', '', ''], ['', '', '', '', '', '7', '4', '', ''], ['6', '', '4', '', '1', '', '8', '', '9'], ['', '', '3', '6', '', '', '', '', ''], ['', '', '9', '', '', '4', '5', '', ''], ['', '5', '', '', '6', '', '7', '', ''], ['', '6', '', '9', '', '', 'A', '2', '4']]]\n"
     ]
    },
    {
     "name": "stderr",
     "output_type": "stream",
     "text": [
      " 43%|███████████████████████████████████▍                                              | 19/44 [00:36<00:51,  2.06s/it]"
     ]
    },
    {
     "name": "stdout",
     "output_type": "stream",
     "text": [
      "[[['', '', '', '', '', '', '1', '', ''], ['6', '', '', '3', '', '', 'P', '', ''], ['', '', '', '', '', '2', '5', '', ''], ['', '', '', '', '8', '', '', '4', ''], ['', '', '4', '', '', '', '', '', 'C'], ['', '', '', '', '6', '', '', '', '9'], ['', '', '', '', '', '9', '', '', '6'], ['', '', '7', '', '', '', '', '', '8'], ['', '1', '5', '', '', '3', '', '', '']]]\n"
     ]
    },
    {
     "name": "stderr",
     "output_type": "stream",
     "text": [
      " 48%|███████████████████████████████████████▏                                          | 21/44 [00:40<00:45,  1.98s/it]"
     ]
    },
    {
     "name": "stdout",
     "output_type": "stream",
     "text": [
      "Sudoku could not be solved. Status = INFEASIBLE\n",
      "[['', '', '', '1', '', '3', '', '', ''], ['', '7', '', '6', '5', '4', '', '2', ''], ['', '', '3', '7', '9', '2', '4', '', ''], ['7', '9', '8', '', '', '', '2', '1', '4'], ['0', '6', '4', '', '', '', '9', '5', ''], ['1', '3', '5', '', '', '', '6', '7', '8'], ['', '', '1', '9', '6', '5', '7', '', ''], ['', '5', '', '4', '7', '8', '', '3', ''], ['', '', '', '3', '', '1', '', '', '']]\n"
     ]
    },
    {
     "name": "stderr",
     "output_type": "stream",
     "text": [
      " 77%|███████████████████████████████████████████████████████████████▎                  | 34/44 [01:07<00:19,  1.96s/it]"
     ]
    },
    {
     "name": "stdout",
     "output_type": "stream",
     "text": [
      "Sudoku could not be solved. Status = INFEASIBLE\n",
      "[['', '', '', '', '', '', '', '', ''], ['', '', '', '9', '1', '7', '', '', ''], ['', '', '', '', '', '', '', '', '3'], ['', '', '', '', '', '', '', '', ''], ['', '', '', '', '', '', '1', '4', '5'], ['', '', '', '', '', '', '', '', ''], ['6', '', '8', '', '3', '', '', '', '7'], ['', '', '', '', '', '', '', '', ''], ['3', '6', '', '', '', '8', '', '5', '']]\n"
     ]
    },
    {
     "name": "stderr",
     "output_type": "stream",
     "text": [
      " 84%|████████████████████████████████████████████████████████████████████▉             | 37/44 [01:13<00:14,  2.04s/it]"
     ]
    },
    {
     "name": "stdout",
     "output_type": "stream",
     "text": [
      "[[['2', '6', '', '3', '', '', '', '', '9'], ['', '4', '3', '', '', '', '', '6', '7'], ['', '', '7', '', '6', '', '1', '3', ''], ['', '', '', '9', '', '7', '', '', '1'], ['', '', '2', '', '', '', '9', '', ''], ['6', '', '', '5', '', '3', '', '', ''], ['', '2', '6', '', '3', '', '8', '', ''], ['9', '8', '', '', '', '', '3', '2', 'C'], ['1', '', '', '', '', '8', '', '9', '6']]]\n"
     ]
    },
    {
     "name": "stderr",
     "output_type": "stream",
     "text": [
      " 89%|████████████████████████████████████████████████████████████████████████▋         | 39/44 [01:17<00:09,  1.93s/it]"
     ]
    },
    {
     "name": "stdout",
     "output_type": "stream",
     "text": [
      "[[['', '4', '', '', '', '', '3', '8', ''], ['', '', '', '', '', '9', '2', '', ''], ['', '9', '6', '7', '', '', '', '', ''], ['', '', '', '', '', '', '', '', ''], ['2', '', '', '9', '8', '', '', '', ''], ['', '', '3', '', '', '', '', '', ''], ['', '', '', '', '4', '', '', '', ''], ['', '', '', '', '', '', '', '', '6'], ['5', '', '', '', '', '3', 'C', '', '']]]\n"
     ]
    },
    {
     "name": "stderr",
     "output_type": "stream",
     "text": [
      " 95%|██████████████████████████████████████████████████████████████████████████████▎   | 42/44 [01:23<00:03,  1.90s/it]"
     ]
    },
    {
     "name": "stdout",
     "output_type": "stream",
     "text": [
      "[[['', '', '', '', '4', '', '', '', '1'], ['', '5', '8', '', '9', '', '', '', '3'], ['1', '4', '', '7', '', '3', '2', '6', ''], ['', '', '6', '', '8', '', '', '3', ''], ['', '1', '', '4', '', '2', '6', '', '9'], ['3', '7', '', '9', '', '', '1', '', '2'], ['', '3', '', '8', '', '6', '', '9', '7'], ['', '', '', '', '2', '9', '', '1', ''], ['9', '6', 'n', '', '', '', '', '', '']]]\n"
     ]
    },
    {
     "name": "stderr",
     "output_type": "stream",
     "text": [
      " 98%|████████████████████████████████████████████████████████████████████████████████▏ | 43/44 [01:24<00:01,  1.89s/it]"
     ]
    },
    {
     "name": "stdout",
     "output_type": "stream",
     "text": [
      "[[['', '8', '', '', '', '5 4'], ['', '', '5', '', '2', '1'], ['', '', '7', '4', '', '3'], ['', '', '', '', '', '7 4'], ['6', '', '4', '', '1', '8 9'], ['', '', '3', '6', '', ''], ['', '', '9', '', '', '4 5'], ['', '5', '', '', '6', '7'], ['', '6', '', '9', '', '2 4']]]\n"
     ]
    },
    {
     "name": "stderr",
     "output_type": "stream",
     "text": [
      "100%|██████████████████████████████████████████████████████████████████████████████████| 44/44 [01:27<00:00,  1.98s/it]"
     ]
    },
    {
     "name": "stdout",
     "output_type": "stream",
     "text": [
      "('Extractor.Activated,Laplacian (alpha=10),', 0.6590909090909091)\n",
      "[('', 0.2727272727272727), ('Laplacian (alpha=10),', 0.4772727272727273), ('Extractor.Activated,', 0.1590909090909091), ('Extractor.Activated,Laplacian (alpha=10),', 0.6590909090909091)]\n"
     ]
    },
    {
     "name": "stderr",
     "output_type": "stream",
     "text": [
      "\n"
     ]
    }
   ],
   "source": [
    "results = eval_all(X_test)\n",
    "print(results)"
   ]
  },
  {
   "cell_type": "code",
   "execution_count": null,
   "metadata": {},
   "outputs": [],
   "source": []
  },
  {
   "cell_type": "code",
   "execution_count": null,
   "metadata": {},
   "outputs": [],
   "source": []
  },
  {
   "cell_type": "code",
   "execution_count": null,
   "metadata": {},
   "outputs": [],
   "source": []
  },
  {
   "cell_type": "code",
   "execution_count": null,
   "metadata": {},
   "outputs": [],
   "source": []
  }
 ],
 "metadata": {
  "kernelspec": {
   "display_name": "Python 3",
   "language": "python",
   "name": "python3"
  },
  "language_info": {
   "codemirror_mode": {
    "name": "ipython",
    "version": 3
   },
   "file_extension": ".py",
   "mimetype": "text/x-python",
   "name": "python",
   "nbconvert_exporter": "python",
   "pygments_lexer": "ipython3",
   "version": "3.7.9"
  }
 },
 "nbformat": 4,
 "nbformat_minor": 4
}
